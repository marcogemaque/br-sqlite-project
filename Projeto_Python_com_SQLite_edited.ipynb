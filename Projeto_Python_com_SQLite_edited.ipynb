{
  "nbformat": 4,
  "nbformat_minor": 0,
  "metadata": {
    "anaconda-cloud": {},
    "kernelspec": {
      "display_name": "Python [conda env:udacity-update]",
      "language": "python",
      "name": "conda-env-udacity-update-py"
    },
    "language_info": {
      "codemirror_mode": {
        "name": "ipython",
        "version": 3
      },
      "file_extension": ".py",
      "mimetype": "text/x-python",
      "name": "python",
      "nbconvert_exporter": "python",
      "pygments_lexer": "ipython3",
      "version": "3.7.7"
    },
    "colab": {
      "name": "Projeto - Python com SQLite edited.ipynb",
      "provenance": [],
      "include_colab_link": true
    }
  },
  "cells": [
    {
      "cell_type": "markdown",
      "metadata": {
        "id": "view-in-github",
        "colab_type": "text"
      },
      "source": [
        "<a href=\"https://colab.research.google.com/github/marcogemaque/br-sqlite-project/blob/master/Projeto_Python_com_SQLite_edited.ipynb\" target=\"_parent\"><img src=\"https://colab.research.google.com/assets/colab-badge.svg\" alt=\"Open In Colab\"/></a>"
      ]
    },
    {
      "cell_type": "markdown",
      "metadata": {
        "id": "40i2FMpUGpMV"
      },
      "source": [
        "# Awari - Data Science\n",
        "\n",
        "## Projeto - Python com SQLite\n",
        "\n",
        "## 1. Considerações iniciais\n",
        "\n",
        "Para que você assimile melhor os comandos do SQL, preparamos este projeto de Python com SQLite. Neste notebook Jupyter, você irá reforçando alguns conceitos da unidade atual e deverá executar algumas tarefas pelo caminho. Todo o projeto deve ser executado neste Jupyter Notebook. Por fim, se desejar, revise as respostas com o seu mentor.\n",
        "\n",
        "### 1.1. Por que SQLite?\n",
        "O SQLite é uma pequena biblioteca em C que possui um banco de dados SQL embutido. Sem o apoio de um poderoso SGDB (Sistema de Gerenciamento de Banco de Dados) como nas soluções do mercado, o SQLite é ideal para fins de aprendizagem, pois sua instalação é fácil e não requer nenhuma configuração inicial. Deste modo, podemos focar nos comandos do SQL.\n",
        "\n",
        "### 1.2. Prepare seu ambiente\n",
        "Baixe e instale o SQLite antes de começar. Resumidamente, você irá acessar a página de [Downloads](https://www.sqlite.org/download.html) do SQLite e baixar os executáveis para a mesma pasta deste notebook. Caso você encontre dificuldades:\n",
        "\n",
        "- Assista a este [vídeo](https://www.youtube.com/watch?v=VcKKt6OTlJc) para \"instalar\" o SQLite no Windows ou;\n",
        "- Ou siga este [manual](http://www.devfuria.com.br/linux/instalando-sqlite/) para as plataformas Linux.\n",
        "\n",
        "### 1.3. Conjunto de dados\n",
        "\n",
        "O conjunto de dados que iremos utilizar é derivado do [Titanic](https://www.kaggle.com/c/titanic/data). Na verdade, dividimos o conjunto em dois arquivos CSV - [passageiros](passageiros.csv) e [passagens](passagens.csv). Cada um destes arquivo serão inseridos dentro do SQLite como tabelas, onde você executará suas consultas SQL.\n",
        "\n",
        "#### 1.3.1. Descrição do dados\n",
        "\n",
        "No arquivo [passageiros](passageiros.csv), você encontrará:\n",
        "- PassengerId: Id do passageiro\n",
        "- Survived: Se o passageiro sobreviveu ou não. Se 0, então não sobreviveu. Se 1, sobreviveu.\n",
        "- Pclass: Classe em que o passageiro estava viajando. Se 1, então estava na primeira classe e assim por diante.\n",
        "- Name: Nome do passageiro.\n",
        "- Sex: Gênero do passageiro. Masculino ou feminino.\n",
        "- Age: Idade.\n",
        "- Sibsp: número de irmãos / esposas a bordo do navio.\n",
        "- Parch: número de pais / filhos a bordo do navio.\n",
        "\n",
        "E no arquivo [passagens](passagens.csv):\n",
        "- PassengerId: Id do passageiro\n",
        "- Ticket: número do ticket de embarque\n",
        "- Fare: valor pago pelo ticket.\n",
        "- Cabin: cabine do passageiro.\n",
        "- Embarked: porto de embarque do passageiro. C = Cherbourg, Q = Queenstown e S = Southampton\n"
      ]
    },
    {
      "cell_type": "markdown",
      "metadata": {
        "id": "i3kTdGgNGpMi"
      },
      "source": [
        "## 2. Procedimentos\n",
        "\n",
        "### 2.1. Leitura dos arquivos CSV\n",
        "Antes de importarmos os dados dentro das tabelas, precisamos começar lendo os arquivos CSV. O pequeno código abaixo importa os dados do CSV em uma lista de dicionários em Python."
      ]
    },
    {
      "cell_type": "code",
      "metadata": {
        "collapsed": true,
        "id": "pTs9b2bFGpMj"
      },
      "source": [
        "import csv\n",
        "\n",
        "def importar_csv(arquivo):\n",
        "    dados = []\n",
        "    with open(arquivo) as arq:\n",
        "        leitor = csv.DictReader(arq)\n",
        "        for l in leitor:\n",
        "            dados.append(dict(l))\n",
        "\n",
        "    return dados"
      ],
      "execution_count": 26,
      "outputs": []
    },
    {
      "cell_type": "markdown",
      "metadata": {
        "id": "qf-OXGVdGpMl"
      },
      "source": [
        "### TAREFA 01\n",
        "\n",
        "1. Importe o arquivo passagens.csv usando o mesmo código anterior.\n",
        "2. Atualize as partes contendo `...` com o que falta no seu código\n",
        "\n",
        "**DICA**: Não reinvente a roda, reutilize a função anterior."
      ]
    },
    {
      "cell_type": "markdown",
      "metadata": {
        "id": "Q5E1AImNGpMm"
      },
      "source": [
        "### TAREFA 02\n",
        "1. Importe o arquivo passageiros.csv usando o mesmo código anterior."
      ]
    },
    {
      "cell_type": "code",
      "metadata": {
        "collapsed": true,
        "id": "WSlHcCpGGpMm"
      },
      "source": [
        "# Insira seu código aqui\n",
        "passagens = importar_csv('/content/passagens.csv')\n",
        "passageiros = importar_csv('/content/passageiros.csv')"
      ],
      "execution_count": 27,
      "outputs": []
    },
    {
      "cell_type": "markdown",
      "metadata": {
        "id": "rR_fGakFGpMn"
      },
      "source": [
        "### 2.2. Criando o banco de dados\n",
        "Para manipular um banco SQLite com Python, temos que utilizar uma biblioteca específica."
      ]
    },
    {
      "cell_type": "code",
      "metadata": {
        "collapsed": true,
        "id": "ZIn-F_HyGpMn"
      },
      "source": [
        "import sqlite3\n",
        "conn = sqlite3.connect('titanic.db')"
      ],
      "execution_count": 28,
      "outputs": []
    },
    {
      "cell_type": "markdown",
      "metadata": {
        "id": "x0Y2ISxqGpMo"
      },
      "source": [
        "O comando acima cria o arquivo [titanic.db](titanic.db), que armazará nossos dados."
      ]
    },
    {
      "cell_type": "markdown",
      "metadata": {
        "id": "3QeEMtpfGpMo"
      },
      "source": [
        "### 2.3. Criando as tabelas\n",
        "Neste momento, temos do dados e o banco SQLlite. Então é hora de começar à usar comandos SQL para criar as tabelas que armazenarão nossos dados dentro do banco.\n",
        "\n",
        "No SQLlite, precisamos primeiro criar uma conexão e um cursor para executar nossos comandos no banco. Para facilicar, o código abaixo facilita este processo. Você só precisa passar seu comando SQL para a função."
      ]
    },
    {
      "cell_type": "code",
      "metadata": {
        "collapsed": true,
        "id": "aaZGyMllGpMp"
      },
      "source": [
        "def executa(comando):\n",
        "    cursor = conn.cursor()\n",
        "    cursor.execute(comando)\n",
        "    cursor.close()"
      ],
      "execution_count": 29,
      "outputs": []
    },
    {
      "cell_type": "markdown",
      "metadata": {
        "id": "cq93bf6vGpMp"
      },
      "source": [
        "Não execute o comando abaixo, pois ele dá um erro. É só um exemplo"
      ]
    },
    {
      "cell_type": "code",
      "metadata": {
        "collapsed": true,
        "id": "e9yqkbQjGpMq"
      },
      "source": [
        "# Exemplo\n",
        "#comando = '<SEU_COMANDO_AQUI>'\n",
        "#executa(comando)"
      ],
      "execution_count": null,
      "outputs": []
    },
    {
      "cell_type": "markdown",
      "metadata": {
        "id": "GjkNH5-SGpMq"
      },
      "source": [
        "### TAREFA 03\n",
        "1. Cria a tabela passageiros.\n",
        "2. PassengerId deve ser a chave primária.\n",
        "3. Atualize as partes contendo `...` com o que falta no seu código"
      ]
    },
    {
      "cell_type": "code",
      "metadata": {
        "collapsed": true,
        "id": "8oI-rQBeGpMr"
      },
      "source": [
        "# Insira seu código aqui\n",
        "tabela_passageiros_comando = \"\"\"\n",
        "CREATE TABLE passageiros(PassengerId INTEGER NOT NULL PRIMARY KEY, \n",
        "                        Survived INTEGER NOT NULL, \n",
        "                        Pclass INTEGER NOT NULL, \n",
        "                        Name VARCHAR(200), \n",
        "                        Sex VARCHAR(20), \n",
        "                        Age INTEGER, \n",
        "                        SibSp INTEGER, \n",
        "                        Parch INTEGER);\n",
        "\"\"\""
      ],
      "execution_count": 30,
      "outputs": []
    },
    {
      "cell_type": "code",
      "metadata": {
        "collapsed": true,
        "id": "R_XuvMPAGpMr",
        "colab": {
          "base_uri": "https://localhost:8080/",
          "height": 275
        },
        "outputId": "2be52d8d-5b80-4e87-f0f7-a4c2a4549eba"
      },
      "source": [
        "comando = executa(tabela_passageiros_comando)"
      ],
      "execution_count": 31,
      "outputs": [
        {
          "output_type": "error",
          "ename": "OperationalError",
          "evalue": "ignored",
          "traceback": [
            "\u001b[0;31m---------------------------------------------------------------------------\u001b[0m",
            "\u001b[0;31mOperationalError\u001b[0m                          Traceback (most recent call last)",
            "\u001b[0;32m<ipython-input-31-21f0d3896dc6>\u001b[0m in \u001b[0;36m<module>\u001b[0;34m()\u001b[0m\n\u001b[0;32m----> 1\u001b[0;31m \u001b[0mcomando\u001b[0m \u001b[0;34m=\u001b[0m \u001b[0mexecuta\u001b[0m\u001b[0;34m(\u001b[0m\u001b[0mtabela_passageiros_comando\u001b[0m\u001b[0;34m)\u001b[0m\u001b[0;34m\u001b[0m\u001b[0;34m\u001b[0m\u001b[0m\n\u001b[0m",
            "\u001b[0;32m<ipython-input-29-de12153073ca>\u001b[0m in \u001b[0;36mexecuta\u001b[0;34m(comando)\u001b[0m\n\u001b[1;32m      1\u001b[0m \u001b[0;32mdef\u001b[0m \u001b[0mexecuta\u001b[0m\u001b[0;34m(\u001b[0m\u001b[0mcomando\u001b[0m\u001b[0;34m)\u001b[0m\u001b[0;34m:\u001b[0m\u001b[0;34m\u001b[0m\u001b[0;34m\u001b[0m\u001b[0m\n\u001b[1;32m      2\u001b[0m     \u001b[0mcursor\u001b[0m \u001b[0;34m=\u001b[0m \u001b[0mconn\u001b[0m\u001b[0;34m.\u001b[0m\u001b[0mcursor\u001b[0m\u001b[0;34m(\u001b[0m\u001b[0;34m)\u001b[0m\u001b[0;34m\u001b[0m\u001b[0;34m\u001b[0m\u001b[0m\n\u001b[0;32m----> 3\u001b[0;31m     \u001b[0mcursor\u001b[0m\u001b[0;34m.\u001b[0m\u001b[0mexecute\u001b[0m\u001b[0;34m(\u001b[0m\u001b[0mcomando\u001b[0m\u001b[0;34m)\u001b[0m\u001b[0;34m\u001b[0m\u001b[0;34m\u001b[0m\u001b[0m\n\u001b[0m\u001b[1;32m      4\u001b[0m     \u001b[0mcursor\u001b[0m\u001b[0;34m.\u001b[0m\u001b[0mclose\u001b[0m\u001b[0;34m(\u001b[0m\u001b[0;34m)\u001b[0m\u001b[0;34m\u001b[0m\u001b[0;34m\u001b[0m\u001b[0m\n",
            "\u001b[0;31mOperationalError\u001b[0m: table passageiros already exists"
          ]
        }
      ]
    },
    {
      "cell_type": "markdown",
      "metadata": {
        "id": "kOVHL6C_GpMs"
      },
      "source": [
        "### TAREFA 04\n",
        "1. Cria a tabela passagens.\n",
        "2. PassengerId deve ser a chave primária.\n",
        "3. Atualize as partes contendo `...` com o que falta no seu código"
      ]
    },
    {
      "cell_type": "code",
      "metadata": {
        "collapsed": true,
        "id": "cjQE1VuYGpMs"
      },
      "source": [
        "# Insira seu código aqui\n",
        "tabela_passagens_comando_fix = \"\"\"\n",
        "CREATE TABLE passagens_fix(PassengerId INTEGER NOT NULL PRIMARY KEY,\n",
        "                            Ticket VARCHAR(200),\n",
        "                            Fare FLOAT NOT NULL,\n",
        "                            Cabin VARCHAR(200),\n",
        "                            Embarked VARCHAR(200))\n",
        "\"\"\""
      ],
      "execution_count": 38,
      "outputs": []
    },
    {
      "cell_type": "code",
      "metadata": {
        "collapsed": true,
        "id": "_JE6qHNIGpMt"
      },
      "source": [
        "comando = executa(tabela_passagens_comando_fix)"
      ],
      "execution_count": 39,
      "outputs": []
    },
    {
      "cell_type": "markdown",
      "metadata": {
        "id": "1b4kURLXGpMt"
      },
      "source": [
        "**Atenção:** Caso você tente executar os comandos de criação de tabelas mais de uma vez, perceberá um erro de operação informando que a tabela já existe.\n",
        "\n",
        "Vamos verificar se as tabelas foram realmente criadas? Abra o terminal e na pasta atual digite:\n",
        "```\n",
        "$ sqlite3 titanic.db \".tables\"\n",
        "```\n",
        "O terminal deve retornar com as tabelas existentes em seu banco [titanic.db](titanic.db). Neste casos, *passageiros* e *passagens*. Lembre-se que neste momento, não temos nenhum dado inseridos nas tabelas.\n",
        "\n",
        "Caso queira verifcar mais algumas informações das tabelas criadas, pode executar esta outra instrução:\n",
        "```\n",
        "$ sqlite3 titanic.db \"PRAGMA table_info(passageiros)\"\n",
        "```"
      ]
    },
    {
      "cell_type": "markdown",
      "metadata": {
        "id": "Brfk5mzGGpMt"
      },
      "source": [
        "### TAREFA 05\n",
        "1. Pelo terminal, verifique mais informações da tabela passagens."
      ]
    },
    {
      "cell_type": "markdown",
      "metadata": {
        "id": "z3Fq7GfIGpMu"
      },
      "source": [
        "### 2.4. Inserindo dados nas tabelas\n",
        "Usando o comando INSERT INTO, vamos popular as nossas tabelas. O processo é simples, percorremos as listas de dicionários, montamos nosso comando INSERT INTO e executamos - uma a uma. Para a tabela passageiros:"
      ]
    },
    {
      "cell_type": "code",
      "metadata": {
        "collapsed": true,
        "id": "FKWuW44ZGpMu",
        "colab": {
          "base_uri": "https://localhost:8080/",
          "height": 328
        },
        "outputId": "fc63c4ca-34e3-43ca-efa6-6a552e403c15"
      },
      "source": [
        "for p in passageiros:\n",
        "    p['Name'] = p['Name'].replace('\"', \"'\")\n",
        "    inserir_passageiro = (\"\"\"\n",
        "    INSERT INTO passageiros(PassengerId, Survived, Pclass, Name, Sex, Age, Sibsp, Parch)\n",
        "    VALUES (%s, \"%s\", \"%s\", \"%s\", \"%s\", \"%s\", \"%s\", \"%s\")\"\"\") % (p['PassengerId'], p['Survived'], p['Pclass'],\n",
        "                                                                 p['Name'], p['Sex'], p['Age'], p['SibSp'],\n",
        "                                                                 p['Parch'])\n",
        "    executa(inserir_passageiro)"
      ],
      "execution_count": 40,
      "outputs": [
        {
          "output_type": "error",
          "ename": "IntegrityError",
          "evalue": "ignored",
          "traceback": [
            "\u001b[0;31m---------------------------------------------------------------------------\u001b[0m",
            "\u001b[0;31mIntegrityError\u001b[0m                            Traceback (most recent call last)",
            "\u001b[0;32m<ipython-input-40-ffe7f28fcbb8>\u001b[0m in \u001b[0;36m<module>\u001b[0;34m()\u001b[0m\n\u001b[1;32m      6\u001b[0m                                                                  \u001b[0mp\u001b[0m\u001b[0;34m[\u001b[0m\u001b[0;34m'Name'\u001b[0m\u001b[0;34m]\u001b[0m\u001b[0;34m,\u001b[0m \u001b[0mp\u001b[0m\u001b[0;34m[\u001b[0m\u001b[0;34m'Sex'\u001b[0m\u001b[0;34m]\u001b[0m\u001b[0;34m,\u001b[0m \u001b[0mp\u001b[0m\u001b[0;34m[\u001b[0m\u001b[0;34m'Age'\u001b[0m\u001b[0;34m]\u001b[0m\u001b[0;34m,\u001b[0m \u001b[0mp\u001b[0m\u001b[0;34m[\u001b[0m\u001b[0;34m'SibSp'\u001b[0m\u001b[0;34m]\u001b[0m\u001b[0;34m,\u001b[0m\u001b[0;34m\u001b[0m\u001b[0;34m\u001b[0m\u001b[0m\n\u001b[1;32m      7\u001b[0m                                                                  p['Parch'])\n\u001b[0;32m----> 8\u001b[0;31m     \u001b[0mexecuta\u001b[0m\u001b[0;34m(\u001b[0m\u001b[0minserir_passageiro\u001b[0m\u001b[0;34m)\u001b[0m\u001b[0;34m\u001b[0m\u001b[0;34m\u001b[0m\u001b[0m\n\u001b[0m",
            "\u001b[0;32m<ipython-input-29-de12153073ca>\u001b[0m in \u001b[0;36mexecuta\u001b[0;34m(comando)\u001b[0m\n\u001b[1;32m      1\u001b[0m \u001b[0;32mdef\u001b[0m \u001b[0mexecuta\u001b[0m\u001b[0;34m(\u001b[0m\u001b[0mcomando\u001b[0m\u001b[0;34m)\u001b[0m\u001b[0;34m:\u001b[0m\u001b[0;34m\u001b[0m\u001b[0;34m\u001b[0m\u001b[0m\n\u001b[1;32m      2\u001b[0m     \u001b[0mcursor\u001b[0m \u001b[0;34m=\u001b[0m \u001b[0mconn\u001b[0m\u001b[0;34m.\u001b[0m\u001b[0mcursor\u001b[0m\u001b[0;34m(\u001b[0m\u001b[0;34m)\u001b[0m\u001b[0;34m\u001b[0m\u001b[0;34m\u001b[0m\u001b[0m\n\u001b[0;32m----> 3\u001b[0;31m     \u001b[0mcursor\u001b[0m\u001b[0;34m.\u001b[0m\u001b[0mexecute\u001b[0m\u001b[0;34m(\u001b[0m\u001b[0mcomando\u001b[0m\u001b[0;34m)\u001b[0m\u001b[0;34m\u001b[0m\u001b[0;34m\u001b[0m\u001b[0m\n\u001b[0m\u001b[1;32m      4\u001b[0m     \u001b[0mcursor\u001b[0m\u001b[0;34m.\u001b[0m\u001b[0mclose\u001b[0m\u001b[0;34m(\u001b[0m\u001b[0;34m)\u001b[0m\u001b[0;34m\u001b[0m\u001b[0;34m\u001b[0m\u001b[0m\n",
            "\u001b[0;31mIntegrityError\u001b[0m: UNIQUE constraint failed: passageiros.PassengerId"
          ]
        }
      ]
    },
    {
      "cell_type": "markdown",
      "metadata": {
        "id": "mbfRFvC7GpMv"
      },
      "source": [
        "### TAREFA 06\n",
        "1. Insira os dados de passagens dentro da tabela passagens"
      ]
    },
    {
      "cell_type": "code",
      "metadata": {
        "collapsed": true,
        "id": "UBsLSs0eGpMv"
      },
      "source": [
        "# Insira seu código aqui\n",
        "for p in passagens:\n",
        "    inserir_passagens = (\"\"\"\n",
        "    INSERT INTO passagens_fix(PassengerId, Ticket, Fare, Cabin, Embarked)\n",
        "    VALUES (%s, \"%s\", \"%s\", \"%s\", \"%s\")\"\"\") % (p['PassengerId'], p['Ticket'], p['Fare'], \n",
        "                                               p['Cabin'], p['Embarked'])\n",
        "    executa(inserir_passagens)"
      ],
      "execution_count": 41,
      "outputs": []
    },
    {
      "cell_type": "markdown",
      "metadata": {
        "id": "fpEnmq_IGpMv"
      },
      "source": [
        "### 2.5. Executando consultas\n",
        "Agora que os dados estão inseridos no arquivo banco SQLite, vamos executar alguns consultas. Vamos começar fazendo uma seleção de todas as colunas das tabelas.\n",
        "\n",
        "O comando SELECT retorna dados, deste modo, precisamos fazer alguma alteração na função executa. utilize o *executa_consulta()*."
      ]
    },
    {
      "cell_type": "code",
      "metadata": {
        "collapsed": true,
        "id": "6M_SAkFoGpMw"
      },
      "source": [
        "def executa_consulta(consulta):\n",
        "    cursor = conn.cursor()\n",
        "    cursor.execute(consulta)\n",
        "    for linha in cursor.fetchall():\n",
        "        print(linha)\n",
        "    \n",
        "    cursor.close()"
      ],
      "execution_count": 42,
      "outputs": []
    },
    {
      "cell_type": "markdown",
      "metadata": {
        "id": "WvtVzCXxGpMx"
      },
      "source": [
        "Testando nosso código. Repare que o comando LIMIT foi utilizado para limitar a quantidade de linhas."
      ]
    },
    {
      "cell_type": "code",
      "metadata": {
        "id": "WBSoHHCdGpMy",
        "colab": {
          "base_uri": "https://localhost:8080/"
        },
        "outputId": "a7c71cb5-4adc-432c-ed31-3a36478a836d"
      },
      "source": [
        "consulta_passageiro = \"\"\"SELECT * FROM PASSAGEIROS LIMIT 10\"\"\"\n",
        "executa_consulta(consulta_passageiro)"
      ],
      "execution_count": 43,
      "outputs": [
        {
          "output_type": "stream",
          "text": [
            "(1, 0, 3, 'Braund, Mr. Owen Harris', 'male', 22, 1, 0)\n",
            "(2, 1, 1, 'Cumings, Mrs. John Bradley (Florence Briggs Thayer)', 'female', 38, 1, 0)\n",
            "(3, 1, 3, 'Heikkinen, Miss. Laina', 'female', 26, 0, 0)\n",
            "(4, 1, 1, 'Futrelle, Mrs. Jacques Heath (Lily May Peel)', 'female', 35, 1, 0)\n",
            "(5, 0, 3, 'Allen, Mr. William Henry', 'male', 35, 0, 0)\n",
            "(6, 0, 3, 'Moran, Mr. James', 'male', '', 0, 0)\n",
            "(7, 0, 1, 'McCarthy, Mr. Timothy J', 'male', 54, 0, 0)\n",
            "(8, 0, 3, 'Palsson, Master. Gosta Leonard', 'male', 2, 3, 1)\n",
            "(9, 1, 3, 'Johnson, Mrs. Oscar W (Elisabeth Vilhelmina Berg)', 'female', 27, 0, 2)\n",
            "(10, 1, 2, 'Nasser, Mrs. Nicholas (Adele Achem)', 'female', 14, 1, 0)\n"
          ],
          "name": "stdout"
        }
      ]
    },
    {
      "cell_type": "code",
      "metadata": {
        "collapsed": true,
        "id": "5_NvmxLdGpMy",
        "colab": {
          "base_uri": "https://localhost:8080/"
        },
        "outputId": "79107a0f-7644-46f7-a0f1-d93be644ed41"
      },
      "source": [
        "consulta_passagens = \"\"\"SELECT * FROM PASSAGENS_FIX LIMIT 10\"\"\"\n",
        "executa_consulta(consulta_passagens)"
      ],
      "execution_count": 45,
      "outputs": [
        {
          "output_type": "stream",
          "text": [
            "(1, 'A/5 21171', 7.25, '', 'S')\n",
            "(2, 'PC 17599', 71.2833, 'C85', 'C')\n",
            "(3, 'STON/O2. 3101282', 7925.0, '', 'S')\n",
            "(4, '113803', 53.1, 'C123', 'S')\n",
            "(5, '373450', 8.05, '', 'S')\n",
            "(6, '330877', 8.4583, '', 'Q')\n",
            "(7, '17463', 51.8625, 'E46', 'S')\n",
            "(8, '349909', 21075.0, '', 'S')\n",
            "(9, '347742', 11.1333, '', 'S')\n",
            "(10, '237736', 30.0708, '', 'C')\n"
          ],
          "name": "stdout"
        }
      ]
    },
    {
      "cell_type": "markdown",
      "metadata": {
        "id": "7RE1_pieGpMz"
      },
      "source": [
        "Também podemos imprimir mais informações sobre uma tabela usando o seguinte comando:"
      ]
    },
    {
      "cell_type": "code",
      "metadata": {
        "collapsed": true,
        "id": "qR-faOO8GpMz",
        "colab": {
          "base_uri": "https://localhost:8080/"
        },
        "outputId": "dc16023c-4a46-4e82-a708-60844767f479"
      },
      "source": [
        "executa_consulta('pragma table_info(passageiros)')"
      ],
      "execution_count": 46,
      "outputs": [
        {
          "output_type": "stream",
          "text": [
            "(0, 'PassengerId', 'INTEGER', 1, None, 1)\n",
            "(1, 'Survived', 'INTEGER', 1, None, 0)\n",
            "(2, 'Pclass', 'INTEGER', 1, None, 0)\n",
            "(3, 'Name', 'VARCHAR(200)', 0, None, 0)\n",
            "(4, 'Sex', 'VARCHAR(20)', 0, None, 0)\n",
            "(5, 'Age', 'INTEGER', 0, None, 0)\n",
            "(6, 'SibSp', 'INTEGER', 0, None, 0)\n",
            "(7, 'Parch', 'INTEGER', 0, None, 0)\n"
          ],
          "name": "stdout"
        }
      ]
    },
    {
      "cell_type": "markdown",
      "metadata": {
        "id": "GDGGwRVCGpMz"
      },
      "source": [
        "### TAREFA 07\n",
        "1. Verifique quantos tipos de classe (PClass) existem na tabela passageiros."
      ]
    },
    {
      "cell_type": "code",
      "metadata": {
        "id": "Ffqh3PB5GpM0",
        "colab": {
          "base_uri": "https://localhost:8080/"
        },
        "outputId": "621b9ede-0244-4107-951d-f30d8876575d"
      },
      "source": [
        "# Insira seu código aqui\n",
        "consulta = \"\"\"SELECT DISTINCT Pclass FROM PASSAGEIROS\"\"\"\n",
        "executa_consulta(consulta)"
      ],
      "execution_count": 47,
      "outputs": [
        {
          "output_type": "stream",
          "text": [
            "(3,)\n",
            "(1,)\n",
            "(2,)\n"
          ],
          "name": "stdout"
        }
      ]
    },
    {
      "cell_type": "markdown",
      "metadata": {
        "id": "-UlVUpV0GpM0"
      },
      "source": [
        "### TAREFA 08\n",
        "1. Selecione os passageiros do sexo masculino (Sex) e que estejam na segunda classe (PClass).\n",
        "\n",
        "**DICA**: Use a cláusula WHERE e uma condicional (AND ou OR)."
      ]
    },
    {
      "cell_type": "code",
      "metadata": {
        "id": "UV8-dEA4GpM0",
        "colab": {
          "base_uri": "https://localhost:8080/"
        },
        "outputId": "2533f904-5966-4783-b75f-291e19437841"
      },
      "source": [
        "# Insira seu código aqui\n",
        "consulta = \"\"\"SELECT Name FROM PASSAGEIROS WHERE Sex='male' and PClass=2\"\"\"\n",
        "executa_consulta(consulta)"
      ],
      "execution_count": 51,
      "outputs": [
        {
          "output_type": "stream",
          "text": [
            "('Williams, Mr. Charles Eugene',)\n",
            "('Fynney, Mr. Joseph J',)\n",
            "('Beesley, Mr. Lawrence',)\n",
            "('Wheadon, Mr. Edward H',)\n",
            "('Jenkin, Mr. Stephen Curnow',)\n",
            "('Hood, Mr. Ambrose Jr',)\n",
            "('Caldwell, Master. Alden Gates',)\n",
            "('Kantor, Mr. Sinai',)\n",
            "('Turpin, Mr. William John Robert',)\n",
            "('Hickman, Mr. Stanley George',)\n",
            "('Nasser, Mr. Nicholas',)\n",
            "('Sobey, Mr. Samuel James Hayden',)\n",
            "('Richard, Mr. Emile',)\n",
            "('Andrew, Mr. Edgardo Samuel',)\n",
            "('Nicholls, Mr. Joseph Charles',)\n",
            "(\"Navratil, Mr. Michel ('Louis M Hoffman')\",)\n",
            "('Byles, Rev. Thomas Roussel Davids',)\n",
            "('Bateman, Rev. Robert James',)\n",
            "('Hale, Mr. Reginald',)\n",
            "('Pernot, Mr. Rene',)\n",
            "('Becker, Master. Richard F',)\n",
            "('Carbines, Mr. William',)\n",
            "('Navratil, Master. Michel M',)\n",
            "('Givard, Mr. Hans Kristensen',)\n",
            "('Jacobsohn, Mr. Sidney Samuel',)\n",
            "('Harris, Mr. Walter',)\n",
            "('Bracken, Mr. James H',)\n",
            "('Mellors, Mr. William John',)\n",
            "('Fahlstrom, Mr. Arne Jonas',)\n",
            "('Sjostedt, Mr. Ernst Adolf',)\n",
            "('Leyson, Mr. Robert William Norman',)\n",
            "('Hold, Mr. Stephen',)\n",
            "('Pengelly, Mr. Frederick William',)\n",
            "('Hunt, Mr. George Henry',)\n",
            "('Coleridge, Mr. Reginald Charles',)\n",
            "('Carter, Rev. Ernest Courtenay',)\n",
            "('Reeves, Mr. David',)\n",
            "(\"Parkes, Mr. Francis 'Frank'\",)\n",
            "('Hosono, Mr. Masabumi',)\n",
            "('Levy, Mr. Rene Jacques',)\n",
            "('Abelson, Mr. Samuel',)\n",
            "('Hart, Mr. Benjamin',)\n",
            "('Moraweck, Dr. Ernest',)\n",
            "('Navratil, Master. Edmond Roger',)\n",
            "('Collander, Mr. Erik Gustaf',)\n",
            "('Sedgwick, Mr. Charles Frederick Waddington',)\n",
            "('Fox, Mr. Stanley Hubert',)\n",
            "('del Carlo, Mr. Sebastiano',)\n",
            "('Davies, Mr. Charles Henry',)\n",
            "('McKane, Mr. Peter David',)\n",
            "('Pain, Dr. Alfred',)\n",
            "('Gale, Mr. Shadrach',)\n",
            "('Richards, Master. William Rowe',)\n",
            "('Cunningham, Mr. Alfred Fleming',)\n",
            "('Matthews, Mr. William John',)\n",
            "('Kvillner, Mr. Johan Henrik Johannesson',)\n",
            "('West, Mr. Edwy Arthur',)\n",
            "('Milling, Mr. Jacob Christian',)\n",
            "('Campbell, Mr. William',)\n",
            "('Renouf, Mr. Peter Henry',)\n",
            "(\"Frost, Mr. Anthony Wood 'Archie'\",)\n",
            "('Hocking, Mr. Richard George',)\n",
            "('Beane, Mr. Edward',)\n",
            "('Padro y Manent, Mr. Julian',)\n",
            "('Davies, Master. John Morgan Jr',)\n",
            "('Sharp, Mr. Percival James R',)\n",
            "('Norman, Mr. Robert Douglas',)\n",
            "('Harris, Mr. George',)\n",
            "('Downton, Mr. William James',)\n",
            "('Jarvis, Mr. John Denzil',)\n",
            "('Chapman, Mr. John Henry',)\n",
            "('Gavey, Mr. Lawrence',)\n",
            "('Kirkland, Rev. Charles Leonard',)\n",
            "('Collyer, Mr. Harvey',)\n",
            "('Hickman, Mr. Leonard Mark',)\n",
            "('Eitemiller, Mr. George Floyd',)\n",
            "('Hickman, Mr. Lewis',)\n",
            "('Butler, Mr. Reginald Fenton',)\n",
            "('Mitchell, Mr. Henry Michael',)\n",
            "('Wilhelms, Mr. Charles',)\n",
            "('Watson, Mr. Ennis Hastings',)\n",
            "('Brown, Mr. Thomas William Solomon',)\n",
            "('Laroche, Mr. Joseph Philippe Lemercier',)\n",
            "('Chapman, Mr. Charles Henry',)\n",
            "(\"Morley, Mr. Henry Samuel ('Mr Henry Marshall')\",)\n",
            "('Greenberg, Mr. Samuel',)\n",
            "('Gillespie, Mr. William Henry',)\n",
            "('Hodges, Mr. Henry Price',)\n",
            "('Bryhl, Mr. Kurt Arnold Gottfrid',)\n",
            "('Knight, Mr. Robert J',)\n",
            "('Berriman, Mr. William John',)\n",
            "('Troupiansky, Mr. Moses Aaron',)\n",
            "('Hamalainen, Master. Viljo',)\n",
            "('Bailey, Mr. Percy Andrew',)\n",
            "('Gaskell, Mr. Alfred',)\n",
            "('Otter, Mr. Richard',)\n",
            "('Ponesell, Mr. Martin',)\n",
            "('Meyer, Mr. August',)\n",
            "('Slemen, Mr. Richard James',)\n",
            "('Mallet, Mr. Albert',)\n",
            "('Mallet, Master. Andre',)\n",
            "('Richards, Master. George Sibley',)\n",
            "('Mudd, Mr. Thomas Charles',)\n",
            "('Harper, Rev. John',)\n",
            "('Giles, Mr. Frederick Edward',)\n",
            "('Gill, Mr. John William',)\n",
            "('Banfield, Mr. Frederick James',)\n",
            "('Montvila, Rev. Juozas',)\n"
          ],
          "name": "stdout"
        }
      ]
    },
    {
      "cell_type": "markdown",
      "metadata": {
        "id": "WQFotgEjGpM1"
      },
      "source": [
        "### TAREFA 09\n",
        "1. Conte quantos passageiros existem por sexo.\n",
        "\n",
        "**DICA**: Use GROUP BY e COUNT()."
      ]
    },
    {
      "cell_type": "code",
      "metadata": {
        "id": "fHmyj5RRGpM3",
        "colab": {
          "base_uri": "https://localhost:8080/"
        },
        "outputId": "3e060b81-1aad-4767-b2f8-0688c62a3e8c"
      },
      "source": [
        "# Insira seu código aqui\n",
        "consulta = \"\"\"SELECT Sex, COUNT(Sex) FROM PASSAGEIROS GROUP BY Sex\"\"\"\n",
        "executa_consulta(consulta)"
      ],
      "execution_count": 62,
      "outputs": [
        {
          "output_type": "stream",
          "text": [
            "('female', 314)\n",
            "('male', 577)\n"
          ],
          "name": "stdout"
        }
      ]
    },
    {
      "cell_type": "markdown",
      "metadata": {
        "id": "jVB6O-1xGpM4"
      },
      "source": [
        "### TAREFA 10\n",
        "1. Verifique o valor médio das passagens em cada porto de embarque\n",
        "\n",
        "**DICA**: Use GROUP BY e AVG(). A presença de valores missing pode apresentar alguns resultados estranhos."
      ]
    },
    {
      "cell_type": "code",
      "metadata": {
        "id": "Rohxb_oyGpM4",
        "colab": {
          "base_uri": "https://localhost:8080/"
        },
        "outputId": "85993fde-c33b-42ee-e9d0-fa4f4246e45c"
      },
      "source": [
        "# Insira seu código aqui\n",
        "consulta = \"\"\"SELECT Embarked, AVG(Fare) FROM PASSAGENS_FIX GROUP BY Embarked\"\"\"\n",
        "executa_consulta(consulta)"
      ],
      "execution_count": 63,
      "outputs": [
        {
          "output_type": "stream",
          "text": [
            "('', 80.0)\n",
            "('C', 12709.34566190476)\n",
            "('Q', 2002.8429129870128)\n",
            "('S', 2015.3069857142902)\n"
          ],
          "name": "stdout"
        }
      ]
    },
    {
      "cell_type": "markdown",
      "metadata": {
        "id": "HevlugjuGpM5"
      },
      "source": [
        "### TAREFA 11\n",
        "1. Selecione o nome (Name), sexo(Sex) e tarifa(Fare) paga de 5 passageiros\n",
        "2. Utilize as tabelas passageiros e passagens.\n",
        "\n",
        "**DICA**: Use JOIN."
      ]
    },
    {
      "cell_type": "code",
      "metadata": {
        "id": "kZPV2PrTGpM5",
        "colab": {
          "base_uri": "https://localhost:8080/"
        },
        "outputId": "d07169d4-7aae-4c7d-e719-d8f2464018c9"
      },
      "source": [
        "# Insira seu código aqui\n",
        "consulta = \"\"\"SELECT Name, Sex, Fare FROM PASSAGEIROS INNER JOIN PASSAGENS_FIX ON PASSAGENS_FIX.PassengerId LIMIT 5\"\"\"\n",
        "executa_consulta(consulta)"
      ],
      "execution_count": 66,
      "outputs": [
        {
          "output_type": "stream",
          "text": [
            "('Braund, Mr. Owen Harris', 'male', 7.25)\n",
            "('Cumings, Mrs. John Bradley (Florence Briggs Thayer)', 'female', 7.25)\n",
            "('Heikkinen, Miss. Laina', 'female', 7.25)\n",
            "('Futrelle, Mrs. Jacques Heath (Lily May Peel)', 'female', 7.25)\n",
            "('Allen, Mr. William Henry', 'male', 7.25)\n"
          ],
          "name": "stdout"
        }
      ]
    },
    {
      "cell_type": "markdown",
      "metadata": {
        "id": "DRQZDR2LGpM6"
      },
      "source": [
        "### TAREFA 12\n",
        "1. Selecione o valor máximo (Fare) das passagens por classe."
      ]
    },
    {
      "cell_type": "code",
      "metadata": {
        "id": "Qp-mdgWSGpM6",
        "colab": {
          "base_uri": "https://localhost:8080/"
        },
        "outputId": "5106d9b0-45a0-429e-fca6-6d2c881bd964"
      },
      "source": [
        "# Insira seu código aqui\n",
        "consulta = \"\"\"SELECT Pclass, MAX(Fare) FROM PASSAGEIROS INNER JOIN PASSAGENS_FIX ON PASSAGENS_FIX.PassengerId GROUP BY Pclass\"\"\"\n",
        "executa_consulta(consulta)"
      ],
      "execution_count": 75,
      "outputs": [
        {
          "output_type": "stream",
          "text": [
            "(1, 262375.0)\n",
            "(2, 262375.0)\n",
            "(3, 262375.0)\n"
          ],
          "name": "stdout"
        }
      ]
    },
    {
      "cell_type": "markdown",
      "metadata": {
        "id": "Hp8J_iBiGpM6"
      },
      "source": [
        "### TAREFA 13\n",
        "1. Descubra quantas pessoas embarcaram por porto\n",
        "2. Agrupando por porto e sexo."
      ]
    },
    {
      "cell_type": "code",
      "metadata": {
        "id": "GKbMPScSGpM7",
        "colab": {
          "base_uri": "https://localhost:8080/"
        },
        "outputId": "159cf463-3e5e-4bb2-b2a2-2a7b523e1ead"
      },
      "source": [
        "# Insira seu código aqui\n",
        "consulta = \"\"\"SELECT Embarked, Sex, COUNT(*) FROM PASSAGEIROS INNER JOIN PASSAGENS_FIX ON PASSAGENS_FIX.PassengerId = PASSAGEIROS.PassengerId GROUP BY Embarked, Sex\"\"\"\n",
        "executa_consulta(consulta)"
      ],
      "execution_count": 81,
      "outputs": [
        {
          "output_type": "stream",
          "text": [
            "('', 'female', 2)\n",
            "('C', 'female', 73)\n",
            "('C', 'male', 95)\n",
            "('Q', 'female', 36)\n",
            "('Q', 'male', 41)\n",
            "('S', 'female', 203)\n",
            "('S', 'male', 441)\n"
          ],
          "name": "stdout"
        }
      ]
    },
    {
      "cell_type": "markdown",
      "metadata": {
        "id": "kZhrJwcDGpM7"
      },
      "source": [
        "## 3. Conclusão\n",
        "\n",
        "A quantidade de consultas e a lista de comandos SQL é enorme. A interação foi somente relembrar alguns comandos básicos para que você se sinta confortável para explorar qualquer banco de dados SQL que você encontrar.\n"
      ]
    },
    {
      "cell_type": "markdown",
      "metadata": {
        "id": "gc4eZlDdGpM7"
      },
      "source": [
        "### Awari -  <a href=\"https://awari.com.br/\"> awari.com.br</a>"
      ]
    }
  ]
}